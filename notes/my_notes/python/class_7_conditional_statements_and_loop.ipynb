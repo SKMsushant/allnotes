{
 "cells": [
  {
   "cell_type": "code",
   "execution_count": 4,
   "metadata": {},
   "outputs": [
    {
     "name": "stdout",
     "output_type": "stream",
     "text": [
      "sorry you cant\n"
     ]
    }
   ],
   "source": [
    "a=int(input('enter money you have'))\n",
    "price=450\n",
    "if price<=a:\n",
    "    print('i can buy the shrit')\n",
    "else:\n",
    "    print('sorry you cant')"
   ]
  },
  {
   "cell_type": "code",
   "execution_count": 12,
   "metadata": {},
   "outputs": [
    {
     "name": "stdout",
     "output_type": "stream",
     "text": [
      "i  will buy shirt\n"
     ]
    }
   ],
   "source": [
    "\n",
    "a=500\n",
    "shirt_price=200\n",
    "pant_price=500\n",
    "coat_price=800\n",
    "if coat_price<=a:\n",
    "    print('i  will buy coat')\n",
    "elif pant_price<500:\n",
    "    print('i  will buy pant')\n",
    "elif shirt_price<500:\n",
    "    print('i  will buy shirt')\n",
    "else:\n",
    "    print('i wont be albe to buy')"
   ]
  },
  {
   "cell_type": "code",
   "execution_count": 33,
   "metadata": {},
   "outputs": [
    {
     "name": "stdout",
     "output_type": "stream",
     "text": [
      "its available under my budget\n",
      "i  will buy shirt\n",
      "colour not available\n"
     ]
    }
   ],
   "source": [
    "a=500\n",
    "shirt_price=200\n",
    "pant_price=500\n",
    "coat_price=800\n",
    "my_shirt_size='m'\n",
    "store_shirt_size=['s','m','xxl']\n",
    "my_shirt_colour='white'\n",
    "colour_shirt_store=['yellow','sky blue','red','black']\n",
    "if coat_price<=a:\n",
    "    print('i  will buy coat')\n",
    "elif pant_price<500:\n",
    "    print('i  will buy pant')\n",
    "elif shirt_price<500:\n",
    "    print('its available under my budget')\n",
    "    if my_shirt_size in store_shirt_size:\n",
    "        print('i  will buy shirt')\n",
    "        if my_shirt_colour in colour_shirt_store:\n",
    "            print('your colour is availble')\n",
    "        else:\n",
    "            print('colour not available')\n",
    "    else:\n",
    "        print('size not available')\n",
    "else:\n",
    "    print('i wont be albe to buy')"
   ]
  },
  {
   "cell_type": "code",
   "execution_count": 23,
   "metadata": {},
   "outputs": [
    {
     "name": "stdout",
     "output_type": "stream",
     "text": [
      "i will try to buy a course\n"
     ]
    }
   ],
   "source": [
    "course_price=12000\n",
    "\n",
    "if 10000<=course_price<=15000:\n",
    "    print('i will try to buy a course')\n",
    "else:\n",
    "    print('i will not buy')"
   ]
  },
  {
   "cell_type": "code",
   "execution_count": 25,
   "metadata": {},
   "outputs": [
    {
     "name": "stdout",
     "output_type": "stream",
     "text": [
      "TRY AGAIN!\n"
     ]
    }
   ],
   "source": [
    "user_name='SKMsushant'\n",
    "password='Skm@123'\n",
    "\n",
    "if user_name==input('enter your username') and password==input('enter you password'):\n",
    "    print('LOGGED IN')\n",
    "else:\n",
    "    print('TRY AGAIN!')"
   ]
  },
  {
   "cell_type": "code",
   "execution_count": 31,
   "metadata": {},
   "outputs": [
    {
     "name": "stdout",
     "output_type": "stream",
     "text": [
      "you are registerd\n",
      "LOGGED IN\n"
     ]
    }
   ],
   "source": [
    "mobile_no=9572613900\n",
    "otp=96352\n",
    "if mobile_no==int(input('enter your mobile no')):\n",
    "    print('you are registerd')\n",
    "    if otp==int(input('enter otp')):\n",
    "        print('LOGGED IN')\n",
    "    else:\n",
    "        print('wrong otp provided')\n",
    "else:\n",
    "    print('number not registered')\n",
    "    "
   ]
  },
  {
   "cell_type": "code",
   "execution_count": 36,
   "metadata": {},
   "outputs": [
    {
     "name": "stdout",
     "output_type": "stream",
     "text": [
      "you are registerd\n",
      "LOGGED IN\n"
     ]
    }
   ],
   "source": [
    "mobile_no={9572613900,7896541236,8564785697,8969069334,8539869972,7070614447}\n",
    "otp=96352\n",
    "if int(input('enter your mobile no'))in mobile_no:\n",
    "    print('you are registerd')\n",
    "    if otp==int(input('enter otp')):\n",
    "        print('LOGGED IN')\n",
    "    else:\n",
    "        print('wrong otp provided')\n",
    "else:\n",
    "    print('number not registered')"
   ]
  },
  {
   "cell_type": "code",
   "execution_count": 37,
   "metadata": {},
   "outputs": [
    {
     "name": "stdout",
     "output_type": "stream",
     "text": [
      "12\n",
      "45\n",
      "87\n",
      "90\n",
      "76\n",
      "65\n",
      "56\n",
      "78\n",
      "98\n",
      "89\n",
      "54\n",
      "23\n"
     ]
    }
   ],
   "source": [
    "l=[12,45,87,90,76,65,56,78,98,89,54,23]\n",
    "\n",
    "for i in l:\n",
    "    print(i)"
   ]
  },
  {
   "cell_type": "code",
   "execution_count": 39,
   "metadata": {},
   "outputs": [
    {
     "name": "stdout",
     "output_type": "stream",
     "text": [
      "12\n",
      "45\n",
      "87\n",
      "90\n",
      "76\n",
      "65\n",
      "56\n",
      "78\n",
      "98\n",
      "89\n",
      "54\n",
      "23\n"
     ]
    }
   ],
   "source": [
    "l=[12,45,87,90,76,65,56,78,98,89,54,23]\n",
    "\n",
    "for i in l:\n",
    "    print(i)"
   ]
  },
  {
   "cell_type": "code",
   "execution_count": 40,
   "metadata": {},
   "outputs": [
    {
     "name": "stdout",
     "output_type": "stream",
     "text": [
      "8564785697\n",
      "8539869972\n",
      "7896541236\n",
      "8969069334\n",
      "9572613900\n",
      "7070614447\n"
     ]
    }
   ],
   "source": [
    "mobile_no={9572613900,7896541236,8564785697,8969069334,8539869972,7070614447}\n",
    "for i in mobile_no:\n",
    "    print(i)"
   ]
  },
  {
   "cell_type": "code",
   "execution_count": 52,
   "metadata": {},
   "outputs": [
    {
     "name": "stdout",
     "output_type": "stream",
     "text": [
      "you are regitered user\n",
      "you are regitered user\n",
      "you are regitered user\n",
      "you are regitered user\n",
      "you are regitered user\n",
      "{'mobile_no': 9572613900, 'course': ['fsdspro']}\n"
     ]
    }
   ],
   "source": [
    "mobile_no={9572613900,7896541236,8564785697,8969069334,8539869972,7070614447}\n",
    "stud_mo=int(input('enter your mobile number'))\n",
    "stud_details={'mobile_no':9572613900,'course':['fsdspro']}\n",
    "for i in mobile_no:\n",
    "    if stud_mo in mobile_no:\n",
    "        print('you are regitered user')\n",
    "        if i==stud_details['mobile_no']:\n",
    "\n",
    "            print(stud_details)\n",
    "            if stud_mo in mobile_no:\n",
    "               break\n",
    "    else:\n",
    "        print('you need register')"
   ]
  },
  {
   "cell_type": "code",
   "execution_count": 55,
   "metadata": {},
   "outputs": [
    {
     "name": "stdout",
     "output_type": "stream",
     "text": [
      "[12, 76, 98, 89, 67]\n",
      "['sushi', 'kumar']\n"
     ]
    }
   ],
   "source": [
    "t=(12,76,98,89,67,'sushi','kumar')\n",
    "l_str=[]\n",
    "l_int=[]\n",
    "for i in t:\n",
    "    if type(i)==str:\n",
    "        l_str.append(i)\n",
    "    elif type(i)==int:\n",
    "        l_int.append(i)\n",
    "print(l_int)\n",
    "print(l_str)\n"
   ]
  },
  {
   "cell_type": "code",
   "execution_count": 56,
   "metadata": {},
   "outputs": [],
   "source": [
    "d3={'name':'sudhanshu kumar','class':['big data','ds','big data','dsa','architecture','system design'],'mobile no.':85484565145,'email_id':'susgfswyussjhg798474@gmail.com'}"
   ]
  },
  {
   "cell_type": "code",
   "execution_count": 57,
   "metadata": {},
   "outputs": [
    {
     "data": {
      "text/plain": [
       "{'name': 'sudhanshu kumar',\n",
       " 'class': ['big data',\n",
       "  'ds',\n",
       "  'big data',\n",
       "  'dsa',\n",
       "  'architecture',\n",
       "  'system design'],\n",
       " 'mobile no.': 85484565145,\n",
       " 'email_id': 'susgfswyussjhg798474@gmail.com'}"
      ]
     },
     "execution_count": 57,
     "metadata": {},
     "output_type": "execute_result"
    }
   ],
   "source": [
    "d3"
   ]
  },
  {
   "cell_type": "code",
   "execution_count": 59,
   "metadata": {},
   "outputs": [
    {
     "data": {
      "text/plain": [
       "dict_values(['sudhanshu kumar', ['big data', 'ds', 'big data', 'dsa', 'architecture', 'system design'], 85484565145, 'susgfswyussjhg798474@gmail.com'])"
      ]
     },
     "execution_count": 59,
     "metadata": {},
     "output_type": "execute_result"
    }
   ],
   "source": [
    "d3.values()"
   ]
  },
  {
   "cell_type": "code",
   "execution_count": 61,
   "metadata": {},
   "outputs": [
    {
     "name": "stdout",
     "output_type": "stream",
     "text": [
      "sudhanshu kumar\n",
      "['big data', 'ds', 'big data', 'dsa', 'architecture', 'system design']\n",
      "85484565145\n",
      "susgfswyussjhg798474@gmail.com\n"
     ]
    }
   ],
   "source": [
    "for i in d3.values():\n",
    "    print(i)"
   ]
  },
  {
   "cell_type": "code",
   "execution_count": 62,
   "metadata": {},
   "outputs": [
    {
     "name": "stdout",
     "output_type": "stream",
     "text": [
      "('name', 'sudhanshu kumar')\n",
      "('class', ['big data', 'ds', 'big data', 'dsa', 'architecture', 'system design'])\n",
      "('mobile no.', 85484565145)\n",
      "('email_id', 'susgfswyussjhg798474@gmail.com')\n"
     ]
    }
   ],
   "source": [
    "for i in d3.items():\n",
    "    print(i)"
   ]
  },
  {
   "cell_type": "code",
   "execution_count": 64,
   "metadata": {},
   "outputs": [
    {
     "name": "stdout",
     "output_type": "stream",
     "text": [
      "['big data', 'ds', 'big data', 'dsa', 'architecture', 'system design']\n"
     ]
    }
   ],
   "source": [
    "for i in d3.values():\n",
    "    if type(i)==list:\n",
    "        print(i)"
   ]
  },
  {
   "cell_type": "code",
   "execution_count": 65,
   "metadata": {},
   "outputs": [
    {
     "name": "stdout",
     "output_type": "stream",
     "text": [
      "mentor teaches system design\n"
     ]
    }
   ],
   "source": [
    "for i in d3.values():\n",
    "    if type(i)==list:\n",
    "        if 'system design' in i:\n",
    "            print('mentor teaches system design')"
   ]
  },
  {
   "cell_type": "code",
   "execution_count": null,
   "metadata": {},
   "outputs": [],
   "source": []
  }
 ],
 "metadata": {
  "kernelspec": {
   "display_name": "Python 3",
   "language": "python",
   "name": "python3"
  },
  "language_info": {
   "codemirror_mode": {
    "name": "ipython",
    "version": 3
   },
   "file_extension": ".py",
   "mimetype": "text/x-python",
   "name": "python",
   "nbconvert_exporter": "python",
   "pygments_lexer": "ipython3",
   "version": "3.11.7"
  }
 },
 "nbformat": 4,
 "nbformat_minor": 2
}
