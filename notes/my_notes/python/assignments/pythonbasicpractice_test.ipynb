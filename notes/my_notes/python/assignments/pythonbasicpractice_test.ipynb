{
 "cells": [
  {
   "cell_type": "code",
   "execution_count": 112,
   "metadata": {},
   "outputs": [
    {
     "data": {
      "text/plain": [
       "'enoyrevE evoL uoY 4 uoY evoL enoyrevE 3 eM evol uoY 2 uoY evoL I 1'"
      ]
     },
     "execution_count": 112,
     "metadata": {},
     "output_type": "execute_result"
    }
   ],
   "source": [
    "my_string=str(input('enter your desirted to string'))\n",
    "my_string[::-1]"
   ]
  },
  {
   "cell_type": "code",
   "execution_count": 113,
   "metadata": {},
   "outputs": [
    {
     "data": {
      "text/plain": [
       "'1 I Love You 2 You love Me 3 Everyone Love You 4 You Love Everyone'"
      ]
     },
     "execution_count": 113,
     "metadata": {},
     "output_type": "execute_result"
    }
   ],
   "source": [
    "my_string"
   ]
  },
  {
   "cell_type": "code",
   "execution_count": 114,
   "metadata": {},
   "outputs": [],
   "source": [
    "rs=my_string[::-1]"
   ]
  },
  {
   "cell_type": "code",
   "execution_count": 115,
   "metadata": {},
   "outputs": [
    {
     "data": {
      "text/plain": [
       "'enoyrevE evoL uoY 4 uoY evoL enoyrevE 3 eM evol uoY 2 uoY evoL I 1'"
      ]
     },
     "execution_count": 115,
     "metadata": {},
     "output_type": "execute_result"
    }
   ],
   "source": [
    "rs"
   ]
  },
  {
   "cell_type": "code",
   "execution_count": 116,
   "metadata": {},
   "outputs": [
    {
     "name": "stdout",
     "output_type": "stream",
     "text": [
      "no\n"
     ]
    }
   ],
   "source": [
    "if my_string==rs:\n",
    "    print('yes')\n",
    "else :\n",
    "    print('no')"
   ]
  },
  {
   "cell_type": "code",
   "execution_count": 117,
   "metadata": {},
   "outputs": [
    {
     "name": "stdout",
     "output_type": "stream",
     "text": [
      "1 I LOVE YOU 2 YOU LOVE ME 3 EVERYONE LOVE YOU 4 YOU LOVE EVERYONE\n"
     ]
    }
   ],
   "source": [
    "upper_case=my_string.upper()\n",
    "print(upper_case)"
   ]
  },
  {
   "cell_type": "code",
   "execution_count": 118,
   "metadata": {},
   "outputs": [
    {
     "name": "stdout",
     "output_type": "stream",
     "text": [
      "1 i love you 2 you love me 3 everyone love you 4 you love everyone\n"
     ]
    }
   ],
   "source": [
    "lower_case=upper_case.lower()\n",
    "print(lower_case)"
   ]
  },
  {
   "cell_type": "code",
   "execution_count": 119,
   "metadata": {},
   "outputs": [
    {
     "name": "stdout",
     "output_type": "stream",
     "text": [
      "vowels = 26\n",
      "consonants= 25\n"
     ]
    }
   ],
   "source": [
    "new_string=my_string.replace(\" \",\"\")\n",
    "g='AaEeIiOoUu'\n",
    "x=0\n",
    "z=0\n",
    "for i in new_string:\n",
    "    if i in g:\n",
    "        x+=1\n",
    "    else:\n",
    "      z+=1  \n",
    "print('vowels =',x)\n",
    "print('consonants=',z)"
   ]
  },
  {
   "cell_type": "code",
   "execution_count": 120,
   "metadata": {},
   "outputs": [
    {
     "name": "stdout",
     "output_type": "stream",
     "text": [
      "66\n"
     ]
    }
   ],
   "source": [
    "string_len=0\n",
    "for i in my_string:\n",
    "    string_len+=1\n",
    "print(string_len)"
   ]
  },
  {
   "cell_type": "code",
   "execution_count": 121,
   "metadata": {},
   "outputs": [
    {
     "name": "stdout",
     "output_type": "stream",
     "text": [
      "19\n"
     ]
    }
   ],
   "source": [
    "word_find=str(input(\"enter ther word you want to find\"))\n",
    "print(my_string.find(word_find))"
   ]
  },
  {
   "cell_type": "code",
   "execution_count": 122,
   "metadata": {},
   "outputs": [
    {
     "name": "stdout",
     "output_type": "stream",
     "text": [
      "1 I Love You 2 You love Me 3 Everyone Love You 4 You Love Everyone\n",
      "1 I Love You 2 You FuckMe 3 Everyone Love You 4 You Love Everyone\n"
     ]
    }
   ],
   "source": [
    "print(my_string)\n",
    "word_to_replace=str(input(\"enter ther word you want to replace\"))\n",
    "replace_word=str(input(\"enter ther word you want to insert\"))\n",
    "new1_string=my_string.replace(word_to_replace,replace_word)\n",
    "print(new1_string)"
   ]
  },
  {
   "cell_type": "code",
   "execution_count": 123,
   "metadata": {},
   "outputs": [
    {
     "data": {
      "text/plain": [
       "1"
      ]
     },
     "execution_count": 123,
     "metadata": {},
     "output_type": "execute_result"
    }
   ],
   "source": [
    "\n",
    "word_count_occur= str(input(\"enter ther word you want to count occurences\"))\n",
    "my_string.count(word_count_occur)"
   ]
  },
  {
   "cell_type": "code",
   "execution_count": 124,
   "metadata": {},
   "outputs": [
    {
     "data": {
      "text/plain": [
       "19"
      ]
     },
     "execution_count": 124,
     "metadata": {},
     "output_type": "execute_result"
    }
   ],
   "source": [
    "my_string.index(word_count_occur)"
   ]
  },
  {
   "cell_type": "code",
   "execution_count": 125,
   "metadata": {},
   "outputs": [
    {
     "data": {
      "text/plain": [
       "19"
      ]
     },
     "execution_count": 125,
     "metadata": {},
     "output_type": "execute_result"
    }
   ],
   "source": [
    "my_string.rfind(word_count_occur)"
   ]
  },
  {
   "cell_type": "code",
   "execution_count": 126,
   "metadata": {},
   "outputs": [
    {
     "name": "stdout",
     "output_type": "stream",
     "text": [
      "['1', 'I', 'Love', 'You', '2', 'You', 'love', 'Me', '3', 'Everyone', 'Love', 'You', '4', 'You', 'Love', 'Everyone']\n",
      "1 I Love You 2 You love Me 3 Everyone Love You 4 You Love Everyone\n"
     ]
    }
   ],
   "source": [
    "string_into_list=my_string.split()\n",
    "print(string_into_list)\n",
    "print(' '.join(string_into_list))"
   ]
  },
  {
   "cell_type": "code",
   "execution_count": 127,
   "metadata": {},
   "outputs": [
    {
     "data": {
      "text/plain": [
       "'1_I_Love_You_2_You_love_Me_3_Everyone_Love_You_4_You_Love_Everyone'"
      ]
     },
     "execution_count": 127,
     "metadata": {},
     "output_type": "execute_result"
    }
   ],
   "source": [
    "my_string.replace(' ','_')"
   ]
  },
  {
   "cell_type": "code",
   "execution_count": 128,
   "metadata": {},
   "outputs": [
    {
     "data": {
      "text/plain": [
       "False"
      ]
     },
     "execution_count": 128,
     "metadata": {},
     "output_type": "execute_result"
    }
   ],
   "source": [
    "my_string.startswith('love')"
   ]
  },
  {
   "cell_type": "code",
   "execution_count": 129,
   "metadata": {},
   "outputs": [
    {
     "data": {
      "text/plain": [
       "False"
      ]
     },
     "execution_count": 129,
     "metadata": {},
     "output_type": "execute_result"
    }
   ],
   "source": [
    "my_string.endswith('love')"
   ]
  },
  {
   "cell_type": "code",
   "execution_count": 130,
   "metadata": {},
   "outputs": [
    {
     "data": {
      "text/plain": [
       "'1 I LOVE YOU 2 YOU LOVE ME 3 EVERYONE LOVE YOU 4 YOU LOVE EVERYONE'"
      ]
     },
     "execution_count": 130,
     "metadata": {},
     "output_type": "execute_result"
    }
   ],
   "source": [
    "my_string.upper()"
   ]
  },
  {
   "cell_type": "code",
   "execution_count": 131,
   "metadata": {},
   "outputs": [
    {
     "name": "stdout",
     "output_type": "stream",
     "text": [
      "Everyone\n",
      "1\n"
     ]
    }
   ],
   "source": [
    "list_word=my_string.split()\n",
    "longest_word=max(list_word,key=len)\n",
    "smallest_word=min(list_word,key=len)\n",
    "print(longest_word)\n",
    "print(smallest_word)"
   ]
  },
  {
   "cell_type": "code",
   "execution_count": 132,
   "metadata": {},
   "outputs": [
    {
     "data": {
      "text/plain": [
       "['Everyone',\n",
       " 'Love',\n",
       " 'You',\n",
       " '4',\n",
       " 'You',\n",
       " 'Love',\n",
       " 'Everyone',\n",
       " '3',\n",
       " 'Me',\n",
       " 'love',\n",
       " 'You',\n",
       " '2',\n",
       " 'You',\n",
       " 'Love',\n",
       " 'I',\n",
       " '1']"
      ]
     },
     "execution_count": 132,
     "metadata": {},
     "output_type": "execute_result"
    }
   ],
   "source": [
    "list_word[::-1]"
   ]
  },
  {
   "cell_type": "code",
   "execution_count": 133,
   "metadata": {},
   "outputs": [
    {
     "data": {
      "text/plain": [
       "False"
      ]
     },
     "execution_count": 133,
     "metadata": {},
     "output_type": "execute_result"
    }
   ],
   "source": [
    "my_string.isalnum()"
   ]
  },
  {
   "cell_type": "code",
   "execution_count": 134,
   "metadata": {},
   "outputs": [
    {
     "name": "stdout",
     "output_type": "stream",
     "text": [
      "[1, 2, 3, 4]\n"
     ]
    }
   ],
   "source": [
    "extract_digit=[]\n",
    "for i in my_string:\n",
    "    if i.isnumeric():\n",
    "        extract_digit.append(int(i))\n",
    "print(extract_digit)\n"
   ]
  },
  {
   "cell_type": "code",
   "execution_count": 135,
   "metadata": {},
   "outputs": [
    {
     "name": "stdout",
     "output_type": "stream",
     "text": [
      "['I', 'L', 'o', 'v', 'e', 'Y', 'o', 'u', 'Y', 'o', 'u', 'l', 'o', 'v', 'e', 'M', 'e', 'E', 'v', 'e', 'r', 'y', 'o', 'n', 'e', 'L', 'o', 'v', 'e', 'Y', 'o', 'u', 'Y', 'o', 'u', 'L', 'o', 'v', 'e', 'E', 'v', 'e', 'r', 'y', 'o', 'n', 'e']\n",
      "{'o', 'I', 'M', 'n', 'L', 'e', 'l', 'r', 'u', 'y', 'E', 'Y', 'v'}\n"
     ]
    }
   ],
   "source": [
    "extract_alphabet=[]\n",
    "for i in my_string:\n",
    "    if i.isalpha():\n",
    "        extract_alphabet.append(str(i))\n",
    "print(extract_alphabet)\n",
    "print(set(extract_alphabet))\n"
   ]
  },
  {
   "cell_type": "code",
   "execution_count": 136,
   "metadata": {},
   "outputs": [
    {
     "data": {
      "text/plain": [
       "0"
      ]
     },
     "execution_count": 136,
     "metadata": {},
     "output_type": "execute_result"
    }
   ],
   "source": [
    "my_string.count(my_string.upper())"
   ]
  },
  {
   "cell_type": "code",
   "execution_count": 137,
   "metadata": {},
   "outputs": [
    {
     "data": {
      "text/plain": [
       "0"
      ]
     },
     "execution_count": 137,
     "metadata": {},
     "output_type": "execute_result"
    }
   ],
   "source": [
    "my_string.count(my_string.lower())"
   ]
  },
  {
   "cell_type": "code",
   "execution_count": null,
   "metadata": {},
   "outputs": [],
   "source": []
  }
 ],
 "metadata": {
  "kernelspec": {
   "display_name": "Python 3",
   "language": "python",
   "name": "python3"
  },
  "language_info": {
   "codemirror_mode": {
    "name": "ipython",
    "version": 3
   },
   "file_extension": ".py",
   "mimetype": "text/x-python",
   "name": "python",
   "nbconvert_exporter": "python",
   "pygments_lexer": "ipython3",
   "version": "3.11.7"
  }
 },
 "nbformat": 4,
 "nbformat_minor": 2
}
